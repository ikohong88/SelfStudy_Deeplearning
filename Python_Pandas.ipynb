{
 "cells": [
  {
   "cell_type": "code",
   "execution_count": 2,
   "metadata": {},
   "outputs": [],
   "source": [
    "import pandas as pd"
   ]
  },
  {
   "cell_type": "code",
   "execution_count": 12,
   "metadata": {},
   "outputs": [],
   "source": [
    "# Pandas의 Dataframe을 생성\n",
    "names = ['kim','Jin','lee','kang','song']\n",
    "\n",
    "# 컬럼이 4개이지만, 데이터는 2개로 인식하여, 에러발생\n",
    "# scores = [\n",
    "#     [100,86,91],\n",
    "#     [72,92,68],\n",
    "#     [81,94,92],\n",
    "#     [88,61,55],\n",
    "#     [76,72,86]\n",
    "# ]\n",
    "kor_score = [100,72,81,88,76]\n",
    "math_score = [86,92,94,61,72]\n",
    "eng_score = [91,68,92,55,86]\n",
    "\n",
    "# 데이터 2개로 인식 에러발생\n",
    "# ScoresDataSet = list(zip(names,scores))\n",
    "ScoresDataSet = list(zip(names,kor_score,math_score,eng_score))\n",
    "df = pd.DataFrame(data = ScoresDataSet, columns = ['names','Kor','Math','Eng'])"
   ]
  },
  {
   "cell_type": "code",
   "execution_count": 13,
   "metadata": {},
   "outputs": [
    {
     "data": {
      "text/html": [
       "<div>\n",
       "<style scoped>\n",
       "    .dataframe tbody tr th:only-of-type {\n",
       "        vertical-align: middle;\n",
       "    }\n",
       "\n",
       "    .dataframe tbody tr th {\n",
       "        vertical-align: top;\n",
       "    }\n",
       "\n",
       "    .dataframe thead th {\n",
       "        text-align: right;\n",
       "    }\n",
       "</style>\n",
       "<table border=\"1\" class=\"dataframe\">\n",
       "  <thead>\n",
       "    <tr style=\"text-align: right;\">\n",
       "      <th></th>\n",
       "      <th>names</th>\n",
       "      <th>Kor</th>\n",
       "      <th>Math</th>\n",
       "      <th>Eng</th>\n",
       "    </tr>\n",
       "  </thead>\n",
       "  <tbody>\n",
       "    <tr>\n",
       "      <th>0</th>\n",
       "      <td>kim</td>\n",
       "      <td>100</td>\n",
       "      <td>86</td>\n",
       "      <td>91</td>\n",
       "    </tr>\n",
       "    <tr>\n",
       "      <th>1</th>\n",
       "      <td>Jin</td>\n",
       "      <td>72</td>\n",
       "      <td>92</td>\n",
       "      <td>68</td>\n",
       "    </tr>\n",
       "    <tr>\n",
       "      <th>2</th>\n",
       "      <td>lee</td>\n",
       "      <td>81</td>\n",
       "      <td>94</td>\n",
       "      <td>92</td>\n",
       "    </tr>\n",
       "    <tr>\n",
       "      <th>3</th>\n",
       "      <td>kang</td>\n",
       "      <td>88</td>\n",
       "      <td>61</td>\n",
       "      <td>55</td>\n",
       "    </tr>\n",
       "    <tr>\n",
       "      <th>4</th>\n",
       "      <td>song</td>\n",
       "      <td>76</td>\n",
       "      <td>72</td>\n",
       "      <td>86</td>\n",
       "    </tr>\n",
       "  </tbody>\n",
       "</table>\n",
       "</div>"
      ],
      "text/plain": [
       "  names  Kor  Math  Eng\n",
       "0   kim  100    86   91\n",
       "1   Jin   72    92   68\n",
       "2   lee   81    94   92\n",
       "3  kang   88    61   55\n",
       "4  song   76    72   86"
      ]
     },
     "execution_count": 13,
     "metadata": {},
     "output_type": "execute_result"
    }
   ],
   "source": [
    "# 데이터프레임의 상단 부분을 출력합니다.\n",
    "df.head()"
   ]
  },
  {
   "cell_type": "code",
   "execution_count": 15,
   "metadata": {},
   "outputs": [
    {
     "name": "stdout",
     "output_type": "stream",
     "text": [
      "names    object\n",
      "Kor       int64\n",
      "Math      int64\n",
      "Eng       int64\n",
      "dtype: object\n",
      "-----------\n",
      "RangeIndex(start=0, stop=5, step=1)\n",
      "-----------\n",
      "Index(['names', 'Kor', 'Math', 'Eng'], dtype='object')\n"
     ]
    }
   ],
   "source": [
    "# 데이터프레임의 열 타입 정보를 출력합니다.\n",
    "print(df.dtypes)\n",
    "print(\"-----------\")\n",
    "\n",
    "# 데이터프레임의 형태 정보입니다.\n",
    "print(df.index)\n",
    "print(\"-----------\")\n",
    "\n",
    "# 데이터프레임의 열 정보입니다.\n",
    "print(df.columns)"
   ]
  },
  {
   "cell_type": "code",
   "execution_count": 18,
   "metadata": {},
   "outputs": [
    {
     "data": {
      "text/plain": [
       "0     kim\n",
       "1     Jin\n",
       "2     lee\n",
       "3    kang\n",
       "4    song\n",
       "Name: names, dtype: object"
      ]
     },
     "execution_count": 18,
     "metadata": {},
     "output_type": "execute_result"
    }
   ],
   "source": [
    "# 데이터프레임의 하나의 열을 선택합니다.\n",
    "df['names']"
   ]
  },
  {
   "cell_type": "code",
   "execution_count": 19,
   "metadata": {},
   "outputs": [
    {
     "data": {
      "text/html": [
       "<div>\n",
       "<style scoped>\n",
       "    .dataframe tbody tr th:only-of-type {\n",
       "        vertical-align: middle;\n",
       "    }\n",
       "\n",
       "    .dataframe tbody tr th {\n",
       "        vertical-align: top;\n",
       "    }\n",
       "\n",
       "    .dataframe thead th {\n",
       "        text-align: right;\n",
       "    }\n",
       "</style>\n",
       "<table border=\"1\" class=\"dataframe\">\n",
       "  <thead>\n",
       "    <tr style=\"text-align: right;\">\n",
       "      <th></th>\n",
       "      <th>names</th>\n",
       "      <th>Kor</th>\n",
       "      <th>Math</th>\n",
       "      <th>Eng</th>\n",
       "    </tr>\n",
       "  </thead>\n",
       "  <tbody>\n",
       "    <tr>\n",
       "      <th>0</th>\n",
       "      <td>kim</td>\n",
       "      <td>100</td>\n",
       "      <td>86</td>\n",
       "      <td>91</td>\n",
       "    </tr>\n",
       "    <tr>\n",
       "      <th>1</th>\n",
       "      <td>Jin</td>\n",
       "      <td>72</td>\n",
       "      <td>92</td>\n",
       "      <td>68</td>\n",
       "    </tr>\n",
       "    <tr>\n",
       "      <th>2</th>\n",
       "      <td>lee</td>\n",
       "      <td>81</td>\n",
       "      <td>94</td>\n",
       "      <td>92</td>\n",
       "    </tr>\n",
       "  </tbody>\n",
       "</table>\n",
       "</div>"
      ],
      "text/plain": [
       "  names  Kor  Math  Eng\n",
       "0   kim  100    86   91\n",
       "1   Jin   72    92   68\n",
       "2   lee   81    94   92"
      ]
     },
     "execution_count": 19,
     "metadata": {},
     "output_type": "execute_result"
    }
   ],
   "source": [
    "# 0~3 번째 인덱스를 선택합니다.\n",
    "df[0:3]"
   ]
  },
  {
   "cell_type": "code",
   "execution_count": 21,
   "metadata": {},
   "outputs": [
    {
     "data": {
      "text/html": [
       "<div>\n",
       "<style scoped>\n",
       "    .dataframe tbody tr th:only-of-type {\n",
       "        vertical-align: middle;\n",
       "    }\n",
       "\n",
       "    .dataframe tbody tr th {\n",
       "        vertical-align: top;\n",
       "    }\n",
       "\n",
       "    .dataframe thead th {\n",
       "        text-align: right;\n",
       "    }\n",
       "</style>\n",
       "<table border=\"1\" class=\"dataframe\">\n",
       "  <thead>\n",
       "    <tr style=\"text-align: right;\">\n",
       "      <th></th>\n",
       "      <th>names</th>\n",
       "      <th>Kor</th>\n",
       "      <th>Math</th>\n",
       "      <th>Eng</th>\n",
       "    </tr>\n",
       "  </thead>\n",
       "  <tbody>\n",
       "    <tr>\n",
       "      <th>0</th>\n",
       "      <td>kim</td>\n",
       "      <td>100</td>\n",
       "      <td>86</td>\n",
       "      <td>91</td>\n",
       "    </tr>\n",
       "    <tr>\n",
       "      <th>2</th>\n",
       "      <td>lee</td>\n",
       "      <td>81</td>\n",
       "      <td>94</td>\n",
       "      <td>92</td>\n",
       "    </tr>\n",
       "    <tr>\n",
       "      <th>3</th>\n",
       "      <td>kang</td>\n",
       "      <td>88</td>\n",
       "      <td>61</td>\n",
       "      <td>55</td>\n",
       "    </tr>\n",
       "  </tbody>\n",
       "</table>\n",
       "</div>"
      ],
      "text/plain": [
       "  names  Kor  Math  Eng\n",
       "0   kim  100    86   91\n",
       "2   lee   81    94   92\n",
       "3  kang   88    61   55"
      ]
     },
     "execution_count": 21,
     "metadata": {},
     "output_type": "execute_result"
    }
   ],
   "source": [
    "# Kor 열이 80보다 큰 데이터를 선택합니다.\n",
    "df[df['Kor'] > 80]"
   ]
  },
  {
   "cell_type": "code",
   "execution_count": 26,
   "metadata": {},
   "outputs": [
    {
     "name": "stdout",
     "output_type": "stream",
     "text": [
      "국어 평균 : 83.4 | 수학 평균 : 81.0 | 영어 평균 : 78.4\n"
     ]
    }
   ],
   "source": [
    "# 데이터프레임에서의 평균값을 계산합니다.\n",
    "avg_kor = df['Kor'].mean()\n",
    "avg_math = df['Math'].mean()\n",
    "avg_eng = df['Eng'].mean()\n",
    "print(\"국어 평균 : {} | 수학 평균 : {} | 영어 평균 : {}\".format(avg_kor,avg_math,avg_eng))"
   ]
  }
 ],
 "metadata": {
  "kernelspec": {
   "display_name": "Python 3",
   "language": "python",
   "name": "python3"
  },
  "language_info": {
   "codemirror_mode": {
    "name": "ipython",
    "version": 3
   },
   "file_extension": ".py",
   "mimetype": "text/x-python",
   "name": "python",
   "nbconvert_exporter": "python",
   "pygments_lexer": "ipython3",
   "version": "3.9.0"
  }
 },
 "nbformat": 4,
 "nbformat_minor": 4
}
