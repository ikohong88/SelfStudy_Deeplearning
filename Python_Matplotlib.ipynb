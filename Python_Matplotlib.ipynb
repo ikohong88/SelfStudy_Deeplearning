{
 "cells": [
  {
   "cell_type": "code",
   "execution_count": 7,
   "metadata": {},
   "outputs": [
    {
     "name": "stdout",
     "output_type": "stream",
     "text": [
      "Collecting matplotlib\n",
      "  Downloading matplotlib-3.4.3-cp39-cp39-win_amd64.whl (7.1 MB)\n",
      "Collecting kiwisolver>=1.0.1\n",
      "  Downloading kiwisolver-1.3.2-cp39-cp39-win_amd64.whl (52 kB)\n",
      "Collecting cycler>=0.10\n",
      "  Downloading cycler-0.10.0-py2.py3-none-any.whl (6.5 kB)\n",
      "Requirement already satisfied: numpy>=1.16 in c:\\users\\spen_hws\\appdata\\local\\programs\\python\\python39\\lib\\site-packages (from matplotlib) (1.19.4)\n",
      "Collecting pillow>=6.2.0\n",
      "  Downloading Pillow-8.3.2-cp39-cp39-win_amd64.whl (3.2 MB)\n",
      "Requirement already satisfied: python-dateutil>=2.7 in c:\\users\\spen_hws\\appdata\\local\\programs\\python\\python39\\lib\\site-packages (from matplotlib) (2.8.1)\n",
      "Requirement already satisfied: pyparsing>=2.2.1 in c:\\users\\spen_hws\\appdata\\local\\programs\\python\\python39\\lib\\site-packages (from matplotlib) (2.4.7)\n",
      "Requirement already satisfied: six in c:\\users\\spen_hws\\appdata\\local\\programs\\python\\python39\\lib\\site-packages (from cycler>=0.10->matplotlib) (1.15.0)\n",
      "Installing collected packages: pillow, kiwisolver, cycler, matplotlib\n",
      "Successfully installed cycler-0.10.0 kiwisolver-1.3.2 matplotlib-3.4.3 pillow-8.3.2\n",
      "Note: you may need to restart the kernel to use updated packages.\n"
     ]
    }
   ],
   "source": [
    "pip install matplotlib"
   ]
  },
  {
   "cell_type": "code",
   "execution_count": 12,
   "metadata": {},
   "outputs": [],
   "source": [
    "import pandas as pd\n",
    "import numpy as np\n",
    "%matplotlib inline\n",
    "import matplotlib.pyplot as plt"
   ]
  },
  {
   "cell_type": "code",
   "execution_count": 5,
   "metadata": {},
   "outputs": [],
   "source": [
    "# matplotlib를 사용하기 위한 pandas 생성\n",
    "names = ['Genesis','Niro','K7','Sonata','i30 N','K5']\n",
    "weight = [1840, 1440, 1800, 1650, 1535, 1610]\n",
    "ZerotoSixty = [9.2, 7.6, 8.2, 8.6, 7.7, 8.2]\n",
    "price = [6400, 5400, 5100, 3200, 4800, 3600]\n",
    "horsePower = [360, 332, 320, 270, 336, 290]\n",
    "\n",
    "CarDataSet = list(zip(names, weight, ZerotoSixty, price, horsePower))\n",
    "df = pd.DataFrame(data = CarDataSet, columns=['names','weight','ZerotoSixty','price','horsePower'])"
   ]
  },
  {
   "cell_type": "code",
   "execution_count": 6,
   "metadata": {},
   "outputs": [
    {
     "data": {
      "text/html": [
       "<div>\n",
       "<style scoped>\n",
       "    .dataframe tbody tr th:only-of-type {\n",
       "        vertical-align: middle;\n",
       "    }\n",
       "\n",
       "    .dataframe tbody tr th {\n",
       "        vertical-align: top;\n",
       "    }\n",
       "\n",
       "    .dataframe thead th {\n",
       "        text-align: right;\n",
       "    }\n",
       "</style>\n",
       "<table border=\"1\" class=\"dataframe\">\n",
       "  <thead>\n",
       "    <tr style=\"text-align: right;\">\n",
       "      <th></th>\n",
       "      <th>names</th>\n",
       "      <th>weight</th>\n",
       "      <th>ZerotoSixty</th>\n",
       "      <th>price</th>\n",
       "      <th>horsePower</th>\n",
       "    </tr>\n",
       "  </thead>\n",
       "  <tbody>\n",
       "    <tr>\n",
       "      <th>0</th>\n",
       "      <td>Genesis</td>\n",
       "      <td>1840</td>\n",
       "      <td>9.2</td>\n",
       "      <td>6400</td>\n",
       "      <td>360</td>\n",
       "    </tr>\n",
       "    <tr>\n",
       "      <th>1</th>\n",
       "      <td>Niro</td>\n",
       "      <td>1440</td>\n",
       "      <td>7.6</td>\n",
       "      <td>5400</td>\n",
       "      <td>332</td>\n",
       "    </tr>\n",
       "    <tr>\n",
       "      <th>2</th>\n",
       "      <td>K7</td>\n",
       "      <td>1800</td>\n",
       "      <td>8.2</td>\n",
       "      <td>5100</td>\n",
       "      <td>320</td>\n",
       "    </tr>\n",
       "    <tr>\n",
       "      <th>3</th>\n",
       "      <td>Sonata</td>\n",
       "      <td>1650</td>\n",
       "      <td>8.6</td>\n",
       "      <td>3200</td>\n",
       "      <td>270</td>\n",
       "    </tr>\n",
       "    <tr>\n",
       "      <th>4</th>\n",
       "      <td>i30 N</td>\n",
       "      <td>1535</td>\n",
       "      <td>7.7</td>\n",
       "      <td>4800</td>\n",
       "      <td>336</td>\n",
       "    </tr>\n",
       "  </tbody>\n",
       "</table>\n",
       "</div>"
      ],
      "text/plain": [
       "     names  weight  ZerotoSixty  price  horsePower\n",
       "0  Genesis    1840          9.2   6400         360\n",
       "1     Niro    1440          7.6   5400         332\n",
       "2       K7    1800          8.2   5100         320\n",
       "3   Sonata    1650          8.6   3200         270\n",
       "4    i30 N    1535          7.7   4800         336"
      ]
     },
     "execution_count": 6,
     "metadata": {},
     "output_type": "execute_result"
    }
   ],
   "source": [
    "# 데이터 프레임의 상단부분을 출력한다.\n",
    "df.head()"
   ]
  },
  {
   "cell_type": "code",
   "execution_count": 32,
   "metadata": {},
   "outputs": [
    {
     "data": {
      "image/png": "[encoded data removed]",
      "text/plain": [
       "<Figure size 432x288 with 1 Axes>"
      ]
     },
     "metadata": {
      "needs_background": "light"
     },
     "output_type": "display_data"
    }
   ],
   "source": [
    "y = df['ZerotoSixty']\n",
    "# y1 = df ['price'] - 하나의 그래프 안에 2개의 y값을 넣을수 없다.\n",
    "x = df['names']\n",
    "\n",
    "# bar plot을 출력합니다.\n",
    "plt.bar(x, y) # --> 막대그래프 객체 생성\n",
    "plt.xlabel('names') # --> x축 제목\n",
    "plt.ylabel('ZerotoSixty') # --> y축 제목\n",
    "plt.title('Bar plot') # --> 그래프 제목\n",
    "plt.show() # --> 그래프 출력"
   ]
  },
  {
   "cell_type": "code",
   "execution_count": 30,
   "metadata": {},
   "outputs": [
    {
     "name": "stdout",
     "output_type": "stream",
     "text": [
      "x값 출력\n",
      "[ 0.  5. 10. 15. 20. 25. 30. 35. 40. 45. 50. 55. 60. 65. 70. 75. 80. 85.\n",
      " 90. 95.]\n",
      "y값 출력\n",
      "[ 34.00213401  27.78434314  47.94393865  34.32460789  43.35723426\n",
      "  40.23482626  71.17203657  79.2514572  106.2114605   69.62177115\n",
      " 113.07959613  94.01562667 108.02924918 120.42026953 133.82938958\n",
      " 132.12022293 160.73395653 151.15656872 175.12905164 183.82849827]\n",
      "a값 출력\n",
      "[0.198363   0.70612159 0.47442236 0.76826636 0.46429276 0.75015275\n",
      " 0.8902756  0.99012364 0.36007086 0.96962961 0.38318389 0.35487644\n",
      " 0.97173707 0.00650314 0.17098175 0.43977847 0.78280939 0.97847087\n",
      " 0.98276502 0.1411732 ]\n",
      "b값 출력\n",
      "[ 9.91815002 35.30607965 23.72111819 38.41331783 23.2146381  37.5076374\n",
      " 44.51378005 49.5061819  18.00354297 48.48148072 19.15919453 17.74382189\n",
      " 48.58685329  0.32515698  8.54908728 21.98892371 39.14046956 48.92354331\n",
      " 49.13825111  7.05865976]\n"
     ]
    },
    {
     "data": {
      "image/png": "[encoded data removed]",
      "text/plain": [
       "<Figure size 432x288 with 1 Axes>"
      ]
     },
     "metadata": {
      "needs_background": "light"
     },
     "output_type": "display_data"
    }
   ],
   "source": [
    "# 랜덤 추출 시드를 고정합니다.\n",
    "# np.random.seed는 의사 난수 생성기 알고리즘의 시드를 설정하는데 사용\n",
    "# 난수는 정의된 범위 내에서 무작위로 추출된 수를 일컫는다.\n",
    "np.random.seed(19881001)\n",
    "\n",
    "# scatter plot 데이터를 생성합니다.\n",
    "# 0 ~ 95까지 5 간격으로 배열에 저장\n",
    "x = np.arange(0.0, 100.0, 5.0)\n",
    "print(\"x값 출력\")\n",
    "print(x)\n",
    "\n",
    "y = (x * 1.5) + np.random.rand(20) * 50\n",
    "print(\"y값 출력\")\n",
    "print(y)\n",
    "\n",
    "# np.random.rand(20)는 0~1 사이의 표준정규분포 난수 20개를 추출\n",
    "# 표준정규분포는 정규 분포의 누적 분포 함수 값인 Φ 값에 대한 수학적 테이블 표이다. \n",
    "a = np.random.rand(20)\n",
    "print(\"a값 출력\")\n",
    "print(a)\n",
    "\n",
    "b = a*50\n",
    "print(\"b값 출력\")\n",
    "print(b)\n",
    "\n",
    "# scatter plot을 출력합니다.\n",
    "plt.scatter(x, y, c=\"b\", alpha=0.5, label=\"scatter point\")\n",
    "plt.xlabel(\"X\")\n",
    "plt.ylabel(\"Y\")\n",
    "plt.legend(loc='upper left')\n",
    "plt.title('Scatter plot')\n",
    "plt.show()"
   ]
  },
  {
   "cell_type": "code",
   "execution_count": null,
   "metadata": {},
   "outputs": [],
   "source": []
  }
 ],
 "metadata": {
  "kernelspec": {
   "display_name": "Python 3",
   "language": "python",
   "name": "python3"
  },
  "language_info": {
   "codemirror_mode": {
    "name": "ipython",
    "version": 3
   },
   "file_extension": ".py",
   "mimetype": "text/x-python",
   "name": "python",
   "nbconvert_exporter": "python",
   "pygments_lexer": "ipython3",
   "version": "3.9.0"
  }
 },
 "nbformat": 4,
 "nbformat_minor": 4
}
